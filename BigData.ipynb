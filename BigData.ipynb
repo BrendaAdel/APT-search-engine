{
  "nbformat": 4,
  "nbformat_minor": 0,
  "metadata": {
    "colab": {
      "name": "BigData.ipynb",
      "version": "0.3.2",
      "provenance": [],
      "collapsed_sections": [],
      "include_colab_link": true
    },
    "kernelspec": {
      "name": "python3",
      "display_name": "Python 3"
    }
  },
  "cells": [
    {
      "cell_type": "markdown",
      "metadata": {
        "id": "view-in-github",
        "colab_type": "text"
      },
      "source": [
        "<a href=\"https://colab.research.google.com/github/BrendaAdel/APT-search-engine/blob/master/BigData.ipynb\" target=\"_parent\"><img src=\"https://colab.research.google.com/assets/colab-badge.svg\" alt=\"Open In Colab\"/></a>"
      ]
    },
    {
      "metadata": {
        "id": "UePXaVPWOt0N",
        "colab_type": "code",
        "colab": {}
      },
      "cell_type": "code",
      "source": [
        "import pandas as pd\n",
        "import numpy \n",
        "import matplotlib.pyplot as plt\n",
        "import seaborn as sns\n",
        "from sklearn.ensemble import RandomForestClassifier\n",
        "from sklearn import metrics\n",
        "from sklearn.preprocessing import LabelEncoder\n",
        "from sklearn.linear_model import LogisticRegression\n",
        "from sklearn.tree import DecisionTreeClassifier\n",
        "from mlxtend.feature_selection import SequentialFeatureSelector as sfs\n",
        "from sklearn import svm\n",
        "from sklearn.neighbors import KNeighborsClassifier"
      ],
      "execution_count": 0,
      "outputs": []
    },
    {
      "metadata": {
        "id": "NhGVlMrgOU5V",
        "colab_type": "code",
        "colab": {}
      },
      "cell_type": "code",
      "source": [
        "def visualize_data(df):\n",
        "\n",
        "    fig,ax = plt.subplots(2,3)\n",
        "    df['Credit_History'].value_counts(ascending=True).plot(kind='bar' ,ax=ax[0,0],title=\"Credit History\")\n",
        "    df['Gender'].value_counts(ascending=True).plot(kind='bar',ax=ax[0,1],title=\"Gender\")\n",
        "    df['Education'].value_counts(ascending=True).plot(kind='bar',ax=ax[0,2],title=\"Education\")\n",
        "    df['Dependents'].value_counts(ascending=True).plot(kind='bar',ax=ax[1,0],title=\"Dependents\")\n",
        "    df['Self_Employed'].value_counts(ascending=True).plot(kind='bar',ax=ax[1,1],title=\"Self Employed\")\n",
        "    df['Married'].value_counts(ascending=True).plot(kind='bar',ax=ax[1,2],title=\"Married\")\n",
        "    plt.show()\n",
        "\n",
        "\n",
        "    # continuous\n",
        "    df['LoanAmount'].plot(kind='kde')\n",
        "    plt.show()\n",
        "    df.boxplot(column='LoanAmount')\n",
        "    plt.show()\n",
        "\n",
        "    df['ApplicantIncome'].plot(kind='kde')\n",
        "    plt.show()\n",
        "    df.boxplot(column='ApplicantIncome')\n",
        "    plt.show()\n",
        "\n",
        "\n",
        "    # relation between categorical and loan_status\n",
        "    fig,ax = plt.subplots(2,3)\n",
        "    credit_history_loan_status = pd.crosstab(df['Credit_History'], df['Loan_Status']).apply(lambda r: r/r.sum(), axis=1)\n",
        "    credit_history_loan_status.plot(kind='bar', stacked=True, color=['red','blue'], grid=False,ax=ax[0,0],title=\"Credit History\")\n",
        "\n",
        "    credit_history_loan_status = pd.crosstab(df['Self_Employed'], df['Loan_Status']).apply(lambda r: r/r.sum(), axis=1)\n",
        "    credit_history_loan_status.plot(kind='bar', stacked=True, color=['red','blue'], grid=False,ax=ax[0,1],title=\"Self Employed\")\n",
        "\n",
        "    credit_history_loan_status = pd.crosstab(df['Married'], df['Loan_Status']).apply(lambda r: r/r.sum(), axis=1)\n",
        "    credit_history_loan_status.plot(kind='bar', stacked=True, color=['red','blue'], grid=False,ax=ax[0,2],title=\"Married\")\n",
        "\n",
        "    credit_history_loan_status = pd.crosstab(df['Education'], df['Loan_Status']).apply(lambda r: r/r.sum(), axis=1)\n",
        "    credit_history_loan_status.plot(kind='bar', stacked=True, color=['red','blue'], grid=False,ax=ax[1,0],title=\"Education\")\n",
        "\n",
        "    credit_history_loan_status = pd.crosstab(df['Gender'], df['Loan_Status']).apply(lambda r: r/r.sum(), axis=1)\n",
        "    credit_history_loan_status.plot(kind='bar', stacked=True, color=['red','blue'], grid=False,ax=ax[1,1],title=\"Gender\")\n",
        "\n",
        "    credit_history_loan_status = pd.crosstab(df['Dependents'], df['Loan_Status']).apply(lambda r: r/r.sum(), axis=1)\n",
        "    credit_history_loan_status.plot(kind='bar', stacked=True, color=['red','blue'], grid=False,ax=ax[1,2],title=\"Dependents\")\n",
        "    #\n",
        "    plt.show()\n",
        "\n",
        "    # relation between LoanAmount, ApplicantIncome\n",
        "    fig, ax = plt.subplots()\n",
        "    ax.scatter(df['LoanAmount'],df['ApplicantIncome'],c='DarkBlue')\n",
        "    plt.xlabel(\"Loan Amount\")\n",
        "    plt.ylabel(\"Income\")\n",
        "    plt.show()\n",
        "\n",
        "    #correlation\n",
        "    # del df['CoapplicantIncome']\n",
        "    # del df['Loan_Amount_Term']\n",
        "    corr = df.assign(Loan_Status=df['Loan_Status'].astype('category').cat.codes).corr().abs()\n",
        "    sns.heatmap(corr,\n",
        "                xticklabels=corr.columns.values,\n",
        "                yticklabels=corr.columns.values)\n",
        "    plt.show()\n",
        "\n",
        "\n",
        "    # #remove extreme values in LoanAmount and ApplicantIncome\n",
        "    # df[\"LoanAmount\"]= np.log(df[\"LoanAmount\"])\n",
        "    # df[\"ApplicantIncome\"]= np.log(df[\"ApplicantIncome\"])\n",
        "    #\n",
        "    # df['LoanAmount'].hist(bins=50)\n",
        "    # plt.show()\n",
        "    # df['ApplicantIncome'].hist(bins=50)\n",
        "    # plt.show()\n",
        "    # df.boxplot(column='LoanAmount')\n",
        "    # plt.show()\n",
        "    # df.boxplot(column='ApplicantIncome')\n",
        "    # plt.show()\n",
        "\n",
        "    # plt.show()\n",
        "    \n",
        "    \n",
        "    #show summary for numerical data\n",
        "    print(df.describe().to_string()) \n",
        "    \n",
        "    #show factors of values of Credit_History\n",
        "    print(df['Credit_History'].unique())\n",
        "    \n",
        "    # Check for missing values\n",
        "    objects = df.columns.values\n",
        "    bins = df.isnull().sum()\n",
        "    listOfMissingValuesOccurence = []\n",
        "    for val in bins:\n",
        "        listOfMissingValuesOccurence.append(val)\n",
        "    y_pos = numpy.arange(len(objects))\n",
        "    performance = listOfMissingValuesOccurence\n",
        "    fig, ax = plt.subplots()\n",
        "    plt.setp(ax.get_xticklabels(), rotation=30, horizontalalignment='right')\n",
        "    plt.bar(y_pos, performance, align='center', alpha=0.5)\n",
        "    plt.xticks(y_pos, objects)\n",
        "    plt.ylabel('number of missing values')\n",
        "    plt.title('missing value')\n",
        "    plt.show()\n",
        "    \n",
        "    \n",
        "\n"
      ],
      "execution_count": 0,
      "outputs": []
    },
    {
      "metadata": {
        "id": "Wbo8gIVZUrEZ",
        "colab_type": "code",
        "colab": {}
      },
      "cell_type": "code",
      "source": [
        "def fillMissingValues(data,train,ob):\n",
        "    # Fill missing values\n",
        "    data[\"LoanAmount\"]= numpy.log(data[\"LoanAmount\"])\n",
        "    if(train==True):\n",
        "        data['LoanAmount'].fillna(data['LoanAmount'].mean(), inplace=True)\n",
        "        data.Gender.fillna(data.Gender.mode()[0], inplace=True)\n",
        "        data.Married.fillna(data.Married.mode()[0], inplace=True)\n",
        "        data.Self_Employed.fillna(data.Self_Employed.mode()[0], inplace=True)\n",
        "        data.Credit_History.fillna(data.Credit_History.mode()[0], inplace=True)\n",
        "        data.Dependents.fillna(data.Dependents.mode()[0], inplace=True)\n",
        "        data.Loan_Amount_Term.fillna(data.Loan_Amount_Term.mode()[0], inplace=True)\n",
        "    else:\n",
        "        data['LoanAmount'].fillna(ob['LoanAmount'], inplace=True)\n",
        "        data.Gender.fillna(ob['Gender'], inplace=True)\n",
        "        data.Married.fillna(ob['Married'], inplace=True)\n",
        "        data.Self_Employed.fillna(ob['Self_Employed'], inplace=True)\n",
        "        data.Credit_History.fillna(ob['Credit_History'], inplace=True)\n",
        "        data.Dependents.fillna(ob['Dependents'], inplace=True)\n",
        "        data.Loan_Amount_Term.fillna(ob['Loan_Amount_Term'], inplace=True)\n",
        "\n",
        "\n",
        "    \n",
        "    \n",
        "    ob={\n",
        "        'LoanAmount' :data['LoanAmount'].mean(),\n",
        "        'Gender':data.Gender.mode()[0],\n",
        "        'Married':data.Married.mode()[0],\n",
        "        'Self_Employed':data.Self_Employed.mode()[0],\n",
        "        'Credit_History':data.Credit_History.mode()[0],\n",
        "        'Dependents':data.Dependents.mode()[0],\n",
        "        'Loan_Amount_Term':data.Loan_Amount_Term.mode()[0],        \n",
        "    }\n",
        "    \n",
        "    return ob"
      ],
      "execution_count": 0,
      "outputs": []
    },
    {
      "metadata": {
        "id": "OOc-Rn21PZ1H",
        "colab_type": "code",
        "colab": {}
      },
      "cell_type": "code",
      "source": [
        "def encodeCategoricalData(data,train):\n",
        "    if(train==True):\n",
        "        var_mod = ['Gender', 'Married', 'Dependents', 'Education', 'Self_Employed', 'Property_Area']\n",
        "    else:\n",
        "        var_mod = ['Gender', 'Married', 'Dependents', 'Education', 'Self_Employed', 'Property_Area']\n",
        "    le = LabelEncoder()\n",
        "    for i in var_mod:\n",
        "        data[i] = le.fit_transform(data[i])"
      ],
      "execution_count": 0,
      "outputs": []
    },
    {
      "metadata": {
        "id": "uUG2R6rZQ-gQ",
        "colab_type": "code",
        "colab": {}
      },
      "cell_type": "code",
      "source": [
        "def create_submission_file(df_test,predictions_test):\n",
        "    submission_df = pd.DataFrame({'Loan_ID':df_test['Loan_ID'],'Loan_Status':predictions_test})\n",
        "    submission_df.to_csv('outfile.csv',index=False)"
      ],
      "execution_count": 0,
      "outputs": []
    },
    {
      "metadata": {
        "id": "4DdsAyv4WbIF",
        "colab_type": "code",
        "colab": {}
      },
      "cell_type": "code",
      "source": [
        "def classifier(data,data2,model):\n",
        "  \n",
        "    #Case of 1 var\n",
        "   \n",
        "    \"\"\"\n",
        "    model.fit(data['Credit_History'].values.reshape(-1, 1), data['Loan_Status'])\n",
        "    results = model.predict(data2['Credit_History'].values.reshape(-1, 1))\n",
        "\n",
        "    create_submission_file(data2,results)\n",
        "    \n",
        "    #coefficients = model.coef_[0]\n",
        "    #print(coefficients)\n",
        "    \"\"\"\n",
        "    \n",
        "    predictor=['Credit_History','LoanAmount']\n",
        "    dataAsArray= numpy.array(data[predictor])\n",
        "    model.fit(dataAsArray, data['Loan_Status'])\n",
        "\n",
        "    #coefficients = model.coef_[0]\n",
        "    #print(coefficients)\n",
        "\n",
        "    data2AsArray = numpy.array(data2[predictor])\n",
        "    results = model.predict(data2AsArray)\n",
        "    create_submission_file(data2,results)\n",
        "    \n",
        "   \n",
        "    "
      ],
      "execution_count": 0,
      "outputs": []
    },
    {
      "metadata": {
        "id": "QWpU2-K2PtqA",
        "colab_type": "code",
        "colab": {}
      },
      "cell_type": "code",
      "source": [
        "def featureSelection(data,model):\n",
        "\n",
        "    sfs1 = sfs(model,k_features=2,forward=True,floating=False,verbose=2,scoring='accuracy')\n",
        "    X = data.iloc[:, 1:-1]\n",
        "    y = data.iloc[:, -1]\n",
        "    sfs1 = sfs1.fit(X, y)\n",
        "    feat_cols = list(sfs1.k_feature_idx_)\n",
        "    print(feat_cols)"
      ],
      "execution_count": 0,
      "outputs": []
    },
    {
      "metadata": {
        "id": "96P10eOwRd5L",
        "colab_type": "code",
        "outputId": "90ecdae5-b029-48a3-dc22-69f9180e86b6",
        "colab": {
          "base_uri": "https://localhost:8080/",
          "height": 70
        }
      },
      "cell_type": "code",
      "source": [
        "if __name__ == \"__main__\":\n",
        "    # Read the data\n",
        "    data = pd.read_csv(\"train.csv\", sep=\",\")\n",
        "    #visualize_data(data)\n",
        "    valuesSavedFromTrainingData=fillMissingValues(data,True,-1)\n",
        "    encodeCategoricalData(data,True)\n",
        "    #print(data.describe(include='all').to_string())\n",
        "\n",
        "    data2 = pd.read_csv(\"test.csv\", sep=\",\")\n",
        "    fillMissingValues(data2,False,valuesSavedFromTrainingData)\n",
        "    #print(data2.describe(include='all').to_string())\n",
        "    encodeCategoricalData(data2,False)\n",
        "\n",
        "\n",
        "    #feature selection\n",
        "    #clf = LogisticRegression()\n",
        "    #clf=DecisionTreeClassifier()\n",
        "    #clf = svm.SVC(gamma='scale')\n",
        "    #featureSelection(data,clf)\n",
        "\n",
        "\n",
        "\n",
        "    #model training and making the output file\n",
        "#     model = LogisticRegression()\n",
        "    model = DecisionTreeClassifier()\n",
        "    #model = KNeighborsClassifier(n_neighbors=3)\n",
        "#     model = RandomForestClassifier(n_estimators=25)\n",
        "    #model = svm.SVC(gamma='scale')\n",
        "    classifier(data,data2,model)"
      ],
      "execution_count": 0,
      "outputs": [
        {
          "output_type": "stream",
          "text": [
            "/usr/local/lib/python3.6/dist-packages/sklearn/linear_model/logistic.py:433: FutureWarning: Default solver will be changed to 'lbfgs' in 0.22. Specify a solver to silence this warning.\n",
            "  FutureWarning)\n"
          ],
          "name": "stderr"
        }
      ]
    },
    {
      "metadata": {
        "id": "j-yCumY1SPYU",
        "colab_type": "code",
        "colab": {}
      },
      "cell_type": "code",
      "source": [
        ""
      ],
      "execution_count": 0,
      "outputs": []
    }
  ]
}